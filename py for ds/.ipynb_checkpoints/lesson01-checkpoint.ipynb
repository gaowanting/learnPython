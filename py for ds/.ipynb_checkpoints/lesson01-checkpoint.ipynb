{
 "cells": [
  {
   "cell_type": "markdown",
   "id": "0526d8c3",
   "metadata": {},
   "source": [
    "# lesson1 "
   ]
  },
  {
   "cell_type": "code",
   "execution_count": 1,
   "id": "a03176e4",
   "metadata": {},
   "outputs": [
    {
     "data": {
      "text/plain": [
       "'C:\\\\Users\\\\g2018\\\\Desktop\\\\py for ds'"
      ]
     },
     "execution_count": 1,
     "metadata": {},
     "output_type": "execute_result"
    }
   ],
   "source": [
    "# 获取当前目录\n",
    "%pwd "
   ]
  },
  {
   "cell_type": "markdown",
   "id": "e8ef2e97",
   "metadata": {},
   "source": [
    "scipy   科学计算库 \\\n",
    "pandas  数据操作库 \\\n",
    "statsmodels 统计模型库 \\\n",
    "matplotlib 基本绘图库\\\n",
    "seaborn 高级绘图库 -- 基于matplotlib\\\n",
    "ggplot 数据可视化库（仿R语言）"
   ]
  },
  {
   "cell_type": "code",
   "execution_count": null,
   "id": "ba7f6d44",
   "metadata": {},
   "outputs": [],
   "source": [
    "pip install seaborn"
   ]
  },
  {
   "cell_type": "code",
   "execution_count": null,
   "id": "b0cc95da",
   "metadata": {},
   "outputs": [],
   "source": [
    "print(\"heni\")"
   ]
  },
  {
   "cell_type": "code",
   "execution_count": null,
   "id": "46bb43ca",
   "metadata": {},
   "outputs": [],
   "source": []
  }
 ],
 "metadata": {
  "kernelspec": {
   "display_name": "Python 3.8.1 64-bit",
   "language": "python",
   "name": "python38164bitf0432b9328a04736bddac313b1fe31ec"
  },
  "language_info": {
   "codemirror_mode": {
    "name": "ipython",
    "version": 3
   },
   "file_extension": ".py",
   "mimetype": "text/x-python",
   "name": "python",
   "nbconvert_exporter": "python",
   "pygments_lexer": "ipython3",
   "version": "3.8.8"
  }
 },
 "nbformat": 4,
 "nbformat_minor": 5
}
