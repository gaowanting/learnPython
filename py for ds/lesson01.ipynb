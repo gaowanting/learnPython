{
 "cells": [
  {
   "cell_type": "markdown",
   "id": "0526d8c3",
   "metadata": {},
   "source": [
    "# lesson1 "
   ]
  },
  {
   "cell_type": "code",
   "execution_count": 1,
   "id": "a03176e4",
   "metadata": {},
   "outputs": [
    {
     "data": {
      "text/plain": [
       "'C:\\\\Users\\\\g2018\\\\Desktop\\\\py for ds'"
      ]
     },
     "execution_count": 1,
     "metadata": {},
     "output_type": "execute_result"
    }
   ],
   "source": [
    "# 获取当前目录\n",
    "%pwd "
   ]
  },
  {
   "cell_type": "markdown",
   "id": "e8ef2e97",
   "metadata": {},
   "source": [
    "scipy   科学计算库 \\\n",
    "pandas  数据操作库 \\\n",
    "statsmodels 统计模型库 \\\n",
    "matplotlib 基本绘图库\\\n",
    "seaborn 高级绘图库 -- 基于matplotlib\\\n",
    "ggplot 数据可视化库（仿R语言）"
   ]
  },
  {
   "cell_type": "code",
   "execution_count": 1,
   "id": "ba7f6d44",
   "metadata": {},
   "outputs": [
    {
     "name": "stdout",
     "output_type": "stream",
     "text": [
      "Collecting seaborn\n",
      "  Downloading seaborn-0.11.2-py3-none-any.whl (292 kB)\n",
      "Requirement already satisfied: matplotlib>=2.2 in c:\\users\\g2018\\appdata\\roaming\\python\\python38\\site-packages (from seaborn) (3.4.1)\n",
      "Requirement already satisfied: numpy>=1.15 in c:\\users\\g2018\\appdata\\local\\programs\\python\\python38\\lib\\site-packages (from seaborn) (1.18.1)\n",
      "Requirement already satisfied: pandas>=0.23 in c:\\users\\g2018\\appdata\\local\\programs\\python\\python38\\lib\\site-packages (from seaborn) (0.25.3)\n",
      "Requirement already satisfied: scipy>=1.0 in c:\\users\\g2018\\appdata\\local\\programs\\python\\python38\\lib\\site-packages (from seaborn) (1.6.3)\n",
      "Requirement already satisfied: python-dateutil>=2.7 in c:\\users\\g2018\\appdata\\local\\programs\\python\\python38\\lib\\site-packages (from matplotlib>=2.2->seaborn) (2.8.0)\n",
      "Requirement already satisfied: pyparsing>=2.2.1 in c:\\users\\g2018\\appdata\\roaming\\python\\python38\\site-packages (from matplotlib>=2.2->seaborn) (2.4.7)\n",
      "Requirement already satisfied: kiwisolver>=1.0.1 in c:\\users\\g2018\\appdata\\roaming\\python\\python38\\site-packages (from matplotlib>=2.2->seaborn) (1.3.1)\n",
      "Requirement already satisfied: pillow>=6.2.0 in c:\\users\\g2018\\appdata\\local\\programs\\python\\python38\\lib\\site-packages (from matplotlib>=2.2->seaborn) (7.0.0)\n",
      "Requirement already satisfied: cycler>=0.10 in c:\\users\\g2018\\appdata\\roaming\\python\\python38\\site-packages (from matplotlib>=2.2->seaborn) (0.10.0)\n",
      "Requirement already satisfied: six in c:\\users\\g2018\\appdata\\local\\programs\\python\\python38\\lib\\site-packages (from cycler>=0.10->matplotlib>=2.2->seaborn) (1.14.0)\n",
      "Requirement already satisfied: pytz>=2017.2 in c:\\users\\g2018\\appdata\\local\\programs\\python\\python38\\lib\\site-packages (from pandas>=0.23->seaborn) (2019.3)\n",
      "Installing collected packages: seaborn\n",
      "Successfully installed seaborn-0.11.2\n",
      "Note: you may need to restart the kernel to use updated packages.\n"
     ]
    },
    {
     "name": "stderr",
     "output_type": "stream",
     "text": [
      "WARNING: You are using pip version 21.1.1; however, version 21.2.4 is available.\n",
      "You should consider upgrading via the 'C:\\Users\\g2018\\AppData\\Local\\Programs\\Python\\Python38\\python.exe -m pip install --upgrade pip' command.\n"
     ]
    }
   ],
   "source": [
    "pip install seaborn"
   ]
  },
  {
   "cell_type": "markdown",
   "id": "f926d800",
   "metadata": {},
   "source": [
    "## python语法"
   ]
  },
  {
   "cell_type": "code",
   "execution_count": 3,
   "id": "b0cc95da",
   "metadata": {},
   "outputs": [],
   "source": [
    "a, b, c = 1, 2, \"doudou\""
   ]
  },
  {
   "cell_type": "code",
   "execution_count": 4,
   "id": "b5d9cdc9",
   "metadata": {},
   "outputs": [
    {
     "data": {
      "text/plain": [
       "'doudou'"
      ]
     },
     "execution_count": 4,
     "metadata": {},
     "output_type": "execute_result"
    }
   ],
   "source": [
    "c"
   ]
  },
  {
   "cell_type": "markdown",
   "id": "5c326f7c",
   "metadata": {},
   "source": [
    "五种标准数据类型\n",
    "Numbers\n",
    "- int\n",
    "- long\n",
    "- float\n",
    "- complex\n",
    "String\n",
    "List\n",
    "Tuple\n",
    "Dictionary"
   ]
  },
  {
   "cell_type": "code",
   "execution_count": 8,
   "id": "e195c27f",
   "metadata": {},
   "outputs": [
    {
     "data": {
      "text/plain": [
       "'try it again'"
      ]
     },
     "execution_count": 8,
     "metadata": {},
     "output_type": "execute_result"
    }
   ],
   "source": [
    "\"try it \"+\"again\""
   ]
  },
  {
   "cell_type": "code",
   "execution_count": 9,
   "id": "535a3e3b",
   "metadata": {},
   "outputs": [
    {
     "data": {
      "text/plain": [
       "'trytry'"
      ]
     },
     "execution_count": 9,
     "metadata": {},
     "output_type": "execute_result"
    }
   ],
   "source": [
    "\"try\"*2"
   ]
  },
  {
   "cell_type": "markdown",
   "id": "30bd8f3b",
   "metadata": {},
   "source": [
    "### list"
   ]
  },
  {
   "cell_type": "code",
   "execution_count": 10,
   "id": "5fa0850d",
   "metadata": {},
   "outputs": [],
   "source": [
    "list1 = [\"ad\", 34, 34.22, \"jo\"]"
   ]
  },
  {
   "cell_type": "code",
   "execution_count": 11,
   "id": "7c998021",
   "metadata": {},
   "outputs": [
    {
     "data": {
      "text/plain": [
       "['ad', 34, 34.22, 'jo', 'ad', 34, 34.22, 'jo']"
      ]
     },
     "execution_count": 11,
     "metadata": {},
     "output_type": "execute_result"
    }
   ],
   "source": [
    "# list * num\n",
    "list1*2"
   ]
  },
  {
   "cell_type": "code",
   "execution_count": 12,
   "id": "f72786fd",
   "metadata": {},
   "outputs": [],
   "source": [
    "list2 = [\"sdf\", 33,3]"
   ]
  },
  {
   "cell_type": "code",
   "execution_count": 13,
   "id": "c4f60753",
   "metadata": {},
   "outputs": [
    {
     "data": {
      "text/plain": [
       "['ad', 34, 34.22, 'jo', 'sdf', 33, 3]"
      ]
     },
     "execution_count": 13,
     "metadata": {},
     "output_type": "execute_result"
    }
   ],
   "source": [
    "# list + list\n",
    "list1+list2"
   ]
  },
  {
   "cell_type": "markdown",
   "id": "6b80fb81",
   "metadata": {},
   "source": [
    "### tuple"
   ]
  },
  {
   "cell_type": "code",
   "execution_count": 15,
   "id": "5f07cbd6",
   "metadata": {},
   "outputs": [],
   "source": [
    "# tuple is Immutable(read-only)\n",
    "tuple = (\"ad\", 12, 131, \"isdn\")"
   ]
  },
  {
   "cell_type": "code",
   "execution_count": 16,
   "id": "d79ef80b",
   "metadata": {},
   "outputs": [
    {
     "data": {
      "text/plain": [
       "(131, 'isdn')"
      ]
     },
     "execution_count": 16,
     "metadata": {},
     "output_type": "execute_result"
    }
   ],
   "source": [
    "tuple[2:]"
   ]
  },
  {
   "cell_type": "markdown",
   "id": "f853000c",
   "metadata": {},
   "source": [
    "### dictionary"
   ]
  },
  {
   "cell_type": "code",
   "execution_count": 18,
   "id": "c9cf97e8",
   "metadata": {},
   "outputs": [],
   "source": [
    "# 定义一个空字典\n",
    "dict = {} "
   ]
  },
  {
   "cell_type": "code",
   "execution_count": 21,
   "id": "d1aa2ad4",
   "metadata": {},
   "outputs": [],
   "source": [
    "dict1 = {\"a\":1, \"b\":2, \"c\":3}"
   ]
  },
  {
   "cell_type": "code",
   "execution_count": 23,
   "id": "45c1bd2a",
   "metadata": {},
   "outputs": [
    {
     "data": {
      "text/plain": [
       "dict_keys(['a', 'b', 'c'])"
      ]
     },
     "execution_count": 23,
     "metadata": {},
     "output_type": "execute_result"
    }
   ],
   "source": [
    "dict1.keys()"
   ]
  },
  {
   "cell_type": "code",
   "execution_count": 24,
   "id": "542f08d5",
   "metadata": {},
   "outputs": [
    {
     "data": {
      "text/plain": [
       "dict_values([1, 2, 3])"
      ]
     },
     "execution_count": 24,
     "metadata": {},
     "output_type": "execute_result"
    }
   ],
   "source": [
    "dict1.values()"
   ]
  },
  {
   "cell_type": "code",
   "execution_count": 26,
   "id": "c9a0fb68",
   "metadata": {},
   "outputs": [
    {
     "ename": "SyntaxError",
     "evalue": "invalid syntax (<ipython-input-26-fe68711f019d>, line 2)",
     "output_type": "error",
     "traceback": [
      "\u001b[1;36m  File \u001b[1;32m\"<ipython-input-26-fe68711f019d>\"\u001b[1;36m, line \u001b[1;32m2\u001b[0m\n\u001b[1;33m    in\u001b[0m\n\u001b[1;37m    ^\u001b[0m\n\u001b[1;31mSyntaxError\u001b[0m\u001b[1;31m:\u001b[0m invalid syntax\n"
     ]
    }
   ],
   "source": [
    "# 运算符\n",
    "in\n",
    "not in"
   ]
  },
  {
   "cell_type": "code",
   "execution_count": null,
   "id": "bea041f7",
   "metadata": {},
   "outputs": [],
   "source": []
  }
 ],
 "metadata": {
  "kernelspec": {
   "display_name": "Python 3.8.1 64-bit",
   "language": "python",
   "name": "python38164bitf0432b9328a04736bddac313b1fe31ec"
  },
  "language_info": {
   "codemirror_mode": {
    "name": "ipython",
    "version": 3
   },
   "file_extension": ".py",
   "mimetype": "text/x-python",
   "name": "python",
   "nbconvert_exporter": "python",
   "pygments_lexer": "ipython3",
   "version": "3.8.8"
  }
 },
 "nbformat": 4,
 "nbformat_minor": 5
}
