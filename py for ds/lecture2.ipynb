{
 "cells": [
  {
   "cell_type": "code",
   "execution_count": 1,
   "id": "b3016f0d",
   "metadata": {},
   "outputs": [],
   "source": [
    "import numpy as np"
   ]
  },
  {
   "cell_type": "code",
   "execution_count": 2,
   "id": "4efecd53",
   "metadata": {},
   "outputs": [
    {
     "data": {
      "text/plain": [
       "array([ 1,  2,  3, 45,  5])"
      ]
     },
     "execution_count": 2,
     "metadata": {},
     "output_type": "execute_result"
    }
   ],
   "source": [
    "np.array([1,2,3,45,5])"
   ]
  },
  {
   "cell_type": "code",
   "execution_count": 4,
   "id": "3f0a3bd3",
   "metadata": {},
   "outputs": [
    {
     "data": {
      "text/plain": [
       "array([0, 1, 2, 3, 4, 5, 6, 7, 8])"
      ]
     },
     "execution_count": 4,
     "metadata": {},
     "output_type": "execute_result"
    }
   ],
   "source": [
    "np.arange(9)"
   ]
  },
  {
   "cell_type": "code",
   "execution_count": 5,
   "id": "6236931f",
   "metadata": {},
   "outputs": [
    {
     "data": {
      "text/plain": [
       "array([1. , 1.2, 1.4, 1.6, 1.8, 2. , 2.2, 2.4, 2.6, 2.8, 3. , 3.2, 3.4,\n",
       "       3.6, 3.8, 4. , 4.2, 4.4, 4.6, 4.8, 5. , 5.2, 5.4, 5.6, 5.8, 6. ,\n",
       "       6.2, 6.4, 6.6, 6.8, 7. , 7.2, 7.4, 7.6, 7.8, 8. , 8.2, 8.4, 8.6,\n",
       "       8.8])"
      ]
     },
     "execution_count": 5,
     "metadata": {},
     "output_type": "execute_result"
    }
   ],
   "source": [
    "# 等差数组\n",
    "np.arange(1,9,0.2)"
   ]
  },
  {
   "cell_type": "code",
   "execution_count": 21,
   "id": "6a0adacd",
   "metadata": {},
   "outputs": [
    {
     "data": {
      "text/plain": [
       "array([91.        , 86.73684211, 82.47368421, 78.21052632, 73.94736842,\n",
       "       69.68421053, 65.42105263, 61.15789474, 56.89473684, 52.63157895,\n",
       "       48.36842105, 44.10526316, 39.84210526, 35.57894737, 31.31578947,\n",
       "       27.05263158, 22.78947368, 18.52631579, 14.26315789, 10.        ])"
      ]
     },
     "execution_count": 21,
     "metadata": {},
     "output_type": "execute_result"
    }
   ],
   "source": [
    "# 等距数组\n",
    "np.linspace(1,9,4)\n",
    "np.linspace(91,10,20)"
   ]
  },
  {
   "cell_type": "code",
   "execution_count": 8,
   "id": "a4ea9cd9",
   "metadata": {},
   "outputs": [
    {
     "data": {
      "text/plain": [
       "array([[1, 2],\n",
       "       [3, 4],\n",
       "       [3, 3]])"
      ]
     },
     "execution_count": 8,
     "metadata": {},
     "output_type": "execute_result"
    }
   ],
   "source": [
    "# 二维\n",
    "np.array([[1,2],[3,4],[3,3]])"
   ]
  },
  {
   "cell_type": "code",
   "execution_count": 15,
   "id": "3a6e2608",
   "metadata": {},
   "outputs": [
    {
     "data": {
      "text/plain": [
       "array([[0, 1, 2],\n",
       "       [3, 4, 5],\n",
       "       [6, 7, 8]])"
      ]
     },
     "execution_count": 15,
     "metadata": {},
     "output_type": "execute_result"
    }
   ],
   "source": [
    "np.arange(9).reshape((3,3))"
   ]
  },
  {
   "cell_type": "code",
   "execution_count": 16,
   "id": "65884c7d",
   "metadata": {},
   "outputs": [
    {
     "data": {
      "text/plain": [
       "array([[136,  56],\n",
       "       [276, 164]])"
      ]
     },
     "execution_count": 16,
     "metadata": {},
     "output_type": "execute_result"
    }
   ],
   "source": [
    "# 矩阵点乘\n",
    "a = np.array([[1,2],[3,4]])\n",
    "b = np.array([[4,52],[66,2]])\n",
    "np.dot(a,b)"
   ]
  },
  {
   "cell_type": "code",
   "execution_count": 17,
   "id": "44623122",
   "metadata": {},
   "outputs": [
    {
     "data": {
      "text/plain": [
       "array([[0., 0., 0.],\n",
       "       [0., 0., 0.],\n",
       "       [0., 0., 0.]])"
      ]
     },
     "execution_count": 17,
     "metadata": {},
     "output_type": "execute_result"
    }
   ],
   "source": [
    "# 零数组\n",
    "np.zeros((3,3))"
   ]
  },
  {
   "cell_type": "code",
   "execution_count": 18,
   "id": "0c0861d7",
   "metadata": {},
   "outputs": [
    {
     "data": {
      "text/plain": [
       "array([[1., 1., 1.],\n",
       "       [1., 1., 1.],\n",
       "       [1., 1., 1.]])"
      ]
     },
     "execution_count": 18,
     "metadata": {},
     "output_type": "execute_result"
    }
   ],
   "source": [
    "np.ones((3,3))"
   ]
  },
  {
   "cell_type": "code",
   "execution_count": null,
   "id": "eafba132",
   "metadata": {},
   "outputs": [],
   "source": []
  }
 ],
 "metadata": {
  "kernelspec": {
   "display_name": "Python 3.8.1 64-bit",
   "language": "python",
   "name": "python38164bitf0432b9328a04736bddac313b1fe31ec"
  },
  "language_info": {
   "codemirror_mode": {
    "name": "ipython",
    "version": 3
   },
   "file_extension": ".py",
   "mimetype": "text/x-python",
   "name": "python",
   "nbconvert_exporter": "python",
   "pygments_lexer": "ipython3",
   "version": "3.8.8"
  }
 },
 "nbformat": 4,
 "nbformat_minor": 5
}
